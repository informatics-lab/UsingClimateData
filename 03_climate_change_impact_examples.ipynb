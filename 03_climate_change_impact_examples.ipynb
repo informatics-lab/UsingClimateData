{
 "cells": [
  {
   "cell_type": "markdown",
   "id": "separated-height",
   "metadata": {},
   "source": [
    "# Investigating Climate Impacts examples - code examples"
   ]
  },
  {
   "cell_type": "code",
   "execution_count": null,
   "id": "intense-transaction",
   "metadata": {},
   "outputs": [],
   "source": []
  },
  {
   "cell_type": "markdown",
   "id": "extraordinary-short",
   "metadata": {},
   "source": [
    "## Energy generation\n",
    "\n"
   ]
  },
  {
   "cell_type": "markdown",
   "id": "other-charles",
   "metadata": {},
   "source": [
    "### Solar generation - solar radiation"
   ]
  },
  {
   "cell_type": "code",
   "execution_count": null,
   "id": "proper-typing",
   "metadata": {},
   "outputs": [],
   "source": [
    "# load ukcp solar radiation"
   ]
  },
  {
   "cell_type": "code",
   "execution_count": 1,
   "id": "based-navigator",
   "metadata": {},
   "outputs": [],
   "source": [
    "# select a site (interactively?)"
   ]
  },
  {
   "cell_type": "code",
   "execution_count": 2,
   "id": "opposed-texas",
   "metadata": {},
   "outputs": [],
   "source": [
    "# create a time series for this location (for each of three eras, 1 per ensemble member)"
   ]
  },
  {
   "cell_type": "code",
   "execution_count": null,
   "id": "neither-seller",
   "metadata": {},
   "outputs": [],
   "source": [
    "# show cange in solar radiation"
   ]
  },
  {
   "cell_type": "code",
   "execution_count": null,
   "id": "printable-might",
   "metadata": {},
   "outputs": [],
   "source": [
    "# show comparison for 3 sites (SW england, N England, scotland)"
   ]
  },
  {
   "cell_type": "markdown",
   "id": "accredited-platform",
   "metadata": {},
   "source": [
    "### Wind generation - surface wind speed"
   ]
  },
  {
   "cell_type": "code",
   "execution_count": null,
   "id": "blessed-bones",
   "metadata": {},
   "outputs": [],
   "source": []
  },
  {
   "cell_type": "code",
   "execution_count": null,
   "id": "searching-forum",
   "metadata": {},
   "outputs": [],
   "source": []
  },
  {
   "cell_type": "code",
   "execution_count": null,
   "id": "muslim-romantic",
   "metadata": {},
   "outputs": [],
   "source": []
  },
  {
   "cell_type": "markdown",
   "id": "chinese-settlement",
   "metadata": {},
   "source": [
    "### Heat waves - health and recreation\n",
    "\n",
    "holiday related small businesses, how is this affected by temperatures?\n",
    "higher nighttime temperaturesd also affect leisure sites\n",
    "\n",
    "impacts on health from min and max temperatures in heat waves - maybe affect the need for cooling in office, or ability to do outdoor work during the day?"
   ]
  },
  {
   "cell_type": "code",
   "execution_count": null,
   "id": "falling-conclusion",
   "metadata": {},
   "outputs": [],
   "source": []
  }
 ],
 "metadata": {
  "kernelspec": {
   "display_name": "experimental-current",
   "language": "python",
   "name": "experimental-current"
  },
  "language_info": {
   "codemirror_mode": {
    "name": "ipython",
    "version": 3
   },
   "file_extension": ".py",
   "mimetype": "text/x-python",
   "name": "python",
   "nbconvert_exporter": "python",
   "pygments_lexer": "ipython3",
   "version": "3.6.6"
  }
 },
 "nbformat": 4,
 "nbformat_minor": 5
}
