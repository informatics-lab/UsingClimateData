{
 "cells": [
  {
   "cell_type": "markdown",
   "id": "canadian-steam",
   "metadata": {},
   "source": [
    "Climate Impacts and Intro to case studies\n",
    "\n",
    "Global warming vs climate change\n",
    "\n",
    "large scale impacts\n",
    "* droughts, floods, heatwaves\n",
    "* secondary - changes in food production, energy production and consumption, water availability\n",
    "\n",
    "local impacts\n",
    "* often for infividual people and businesses, local scale impacts are important\n",
    "* what will this look like in my neighbourhood\n",
    "\n",
    "increased ability for small business to engage\n",
    "* compute power\n",
    "* data availability\n",
    "* need to consider climate change in all aspects of planning\n",
    "\n",
    "\n",
    "Use cases\n",
    "* engergy generation - solar\n",
    "* energy generation - wind\n",
    "* heat waves - max and min temp: use of hating/cooling, power consumption, employee health etc.\n"
   ]
  },
  {
   "cell_type": "code",
   "execution_count": null,
   "id": "comparative-doubt",
   "metadata": {},
   "outputs": [],
   "source": []
  }
 ],
 "metadata": {
  "kernelspec": {
   "display_name": "experimental-current",
   "language": "python",
   "name": "experimental-current"
  },
  "language_info": {
   "codemirror_mode": {
    "name": "ipython",
    "version": 3
   },
   "file_extension": ".py",
   "mimetype": "text/x-python",
   "name": "python",
   "nbconvert_exporter": "python",
   "pygments_lexer": "ipython3",
   "version": "3.6.6"
  }
 },
 "nbformat": 4,
 "nbformat_minor": 5
}
