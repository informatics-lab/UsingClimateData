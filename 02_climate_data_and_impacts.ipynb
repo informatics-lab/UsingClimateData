{
 "cells": [
  {
   "cell_type": "markdown",
   "id": "incoming-picture",
   "metadata": {},
   "source": [
    "# Using Climate Data - Section 2: Introduction to Climate Impacts\n",
    "\n",
    "* Created by Stephen Haddad and Maria Athanassiadou\n",
    "* Organisation - Met Office Informatics Lab\n",
    "\n",
    "In this notebook we will think about what the data about climate change that we have seen means in terms of impact on businesses and indviduals. "
   ]
  },
  {
   "cell_type": "markdown",
   "id": "standard-pharmacology",
   "metadata": {},
   "source": [
    "## Incorporating Climate Change into business planning\n",
    "\n",
    "When planning for the future of the business, factors are considered that will impact in some way on the future income, expenses, investments or liabilities of the business in question. While weather patterns vary day to day as we have discussed, the overall distribution wass thought to be constant, or at least constant over the time frames considered by business as changes in climate happened sufficiently slowely that it was beyond the scope of business planning outside of niche industries like for example nuclear waste disposal where especially long time frames are considered."
   ]
  },
  {
   "cell_type": "markdown",
   "id": "copyrighted-singer",
   "metadata": {},
   "source": [
    "As we have seen in the climate data in section 1, the anthropogenic climate change brought caused by human emissions of greenhouse gaseds is happening faster than other forms of climate change would be expected to happen in. With investments in buildings often being in place for 20-50 years, we can see that planning for such investments needs to consider not just the climate of today, but the climate of 2040, 2060 and 2080 as some variables will be sufficiently different to merit making different investment decisions."
   ]
  },
  {
   "cell_type": "markdown",
   "id": "realistic-thesis",
   "metadata": {},
   "source": [
    "## What are the impacts of climate change?\n",
    "\n",
    "![Drivers oif climate change](drivers-of-climate-change.jpeg)\n",
    "\n",
    "https://www.metoffice.gov.uk/weather/climate-change/effects-of-climate-change"
   ]
  },
  {
   "cell_type": "markdown",
   "id": "greater-digest",
   "metadata": {},
   "source": [
    "On a large scale the impacts of climate change include direct and indirect effect.\n",
    "\n",
    "Direct effects:\n",
    "* greater frequency and intensity of extreme weather events\n",
    "* longer lasting droughts\n",
    "\n",
    "Indirect effects\n",
    "* changes to habitats of pests\n",
    "* food insecrity\n",
    "* water insecurity\n"
   ]
  },
  {
   "cell_type": "markdown",
   "id": "accessory-collapse",
   "metadata": {},
   "source": [
    "What about on a smaller scale? One of the important considerations about climate change is that the impacts of climate change are unevenly distributed. We use higher-resolution simulations like those produced by UKCP18 to understand how different areas might be affected in the future. Tools have been produced which allow one to examine what the changes might look like on a local scale.\n",
    "\n",
    "The BBC have created a tool that uses UKCP18 data to look at what changes might occur for your postcode, which is a good way to start considering what changes might need to be incorporated into future business plans:\n",
    "\n",
    "https://www.bbc.co.uk/news/resources/idt-d6338d9f-8789-4bc2-b6d7-3691c0e7d138\n"
   ]
  },
  {
   "cell_type": "markdown",
   "id": "jewish-austin",
   "metadata": {},
   "source": [
    "## What will the impacts be on my business?\n",
    "\n",
    "Many business have started asking how they should be includig climate change and its impacts in their plans. Some of the impacts might include:\n",
    "\n",
    "* changes to building to take into account differerent average and extreme values of temperature\n",
    "* supply chain vulnerabilities\n",
    "  * this might include food supply vulnerabilities\n",
    "  * water scarcity may impact business at time due to longer droughts\n",
    "\n",
    "Businesses are also considering how efforts to prevent particularly intense global warming in the century ahead by reducing greenhouse gas emissions. Some of the impacts from this might include:\n",
    "* changes to energy supply for buildings, which may also be directly affected by climate change\n",
    "* changes to trasportation \n",
    "* changes to business and leisure travel\n",
    "* changes to comuting and working from home impacting on office space requirements\n",
    "\n",
    "Additional reading:\n",
    "* https://wittysparks.com/impact-of-climate-change-on-small-businesses/\n",
    "* https://www.companydebt.com/how-is-your-business-going-to-be-affected-by-climate-change/\n",
    "* https://www.nibusinessinfo.co.uk/content/how-will-climate-change-affect-my-business"
   ]
  },
  {
   "cell_type": "markdown",
   "id": "offshore-warning",
   "metadata": {},
   "source": [
    "## Some practical examples\n",
    "\n",
    "In this course, we will take a look at some practical examples of considering the impact of climate change on some specific cases.  How do we discover what the impacts of climate change will be on a business? To to that we need some sort of model connecting climate data and business impacts. This could be quite simple, simply stating that some business mteric is proportional to a climate measurement. For example, Ice-cream sales at the beach might be proportional to average daily maximum temperature. In other cases their might be several different variables involved, and a more sophisticated statistical or machine learning model might be required to describe the connections. In general, the pipeline from climate data \n",
    "might look like this:\n",
    "![Climate data to business impacts pipeline](climate_to_business_impacts.png)\n",
    "\n",
    "\n",
    "Lets consider these questions for the particular cases:\n",
    "* Impact on Energy Generation\n",
    "  * Impact on solar power generating capacity - Impact Model: generating capcity is proprtional to solar radiation.\n",
    "  * impact on wind power - Impact model: generating capacity is proportional to average wind speed.\n",
    "* Impact on leisure and hospitality\n",
    "  * temperature dependant leise and hospitality business \n",
    "    * Impact model 1: max temperature above a threshold encourage consumeras\n",
    "    * Impact model 2: minimum temperatures above a threshold  require additional active cooling for buildings at increased expense.\n",
    "\n",
    "\n"
   ]
  }
 ],
 "metadata": {
  "kernelspec": {
   "display_name": "conda_amazonei_mxnet_p27",
   "language": "python",
   "name": "conda_amazonei_mxnet_p27"
  },
  "language_info": {
   "codemirror_mode": {
    "name": "ipython",
    "version": 2
   },
   "file_extension": ".py",
   "mimetype": "text/x-python",
   "name": "python",
   "nbconvert_exporter": "python",
   "pygments_lexer": "ipython2",
   "version": "2.7.16"
  }
 },
 "nbformat": 4,
 "nbformat_minor": 5
}
