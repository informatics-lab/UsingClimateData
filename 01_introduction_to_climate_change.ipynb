{
 "cells": [
  {
   "cell_type": "markdown",
   "id": "random-somewhere",
   "metadata": {},
   "source": [
    "Session outline\n",
    "\n",
    "weather vs climate\n",
    "\n",
    "History of research into climate change / global warming\n",
    "\n",
    "introduction to climate data sources\n",
    "* observations\n",
    "* modelling\n",
    "  * UKCP\n",
    "  * CMIP6\n",
    "  "
   ]
  },
  {
   "cell_type": "markdown",
   "id": "noticed-arrangement",
   "metadata": {},
   "source": [
    "## Introduction to climate datasets\n",
    "\n",
    "Describe how climate datasets are produced\n",
    "\n",
    "Aim is not individual weather events but likely future scenarios"
   ]
  },
  {
   "cell_type": "markdown",
   "id": "english-telescope",
   "metadata": {},
   "source": [
    "### Climate observations\n",
    "\n",
    "* station data\n",
    "* satellite\n",
    "\n",
    "processed into gridded data"
   ]
  },
  {
   "cell_type": "markdown",
   "id": "biblical-sierra",
   "metadata": {},
   "source": [
    "### CMIP6\n",
    "\n",
    "Modelling different scenarios\n",
    "Climate model as an experiment\n",
    "Standard dataset for future climate\n",
    "used as input for IPCC reports that feed into COP UN Framework Convention of Climate Change"
   ]
  },
  {
   "cell_type": "markdown",
   "id": "purple-pierre",
   "metadata": {},
   "source": [
    "How to access CMIP6 data through AWS and intake"
   ]
  },
  {
   "cell_type": "code",
   "execution_count": null,
   "id": "miniature-exposure",
   "metadata": {},
   "outputs": [],
   "source": [
    "# define paramters for access CMIP6"
   ]
  },
  {
   "cell_type": "code",
   "execution_count": null,
   "id": "centered-mandate",
   "metadata": {},
   "outputs": [],
   "source": [
    "# load some data for different scenarios"
   ]
  },
  {
   "cell_type": "code",
   "execution_count": null,
   "id": "focused-solid",
   "metadata": {},
   "outputs": [],
   "source": [
    "# calculate monthly means for different years for multiple ensemble memebers"
   ]
  },
  {
   "cell_type": "code",
   "execution_count": null,
   "id": "quantitative-civilian",
   "metadata": {},
   "outputs": [],
   "source": [
    "# calculate a time a series for Exeter? UK? "
   ]
  },
  {
   "cell_type": "markdown",
   "id": "brief-custom",
   "metadata": {},
   "source": [
    "### UK Climate Projections\n",
    "\n",
    "https://www.metoffice.gov.uk/research/approach/collaboration/ukcp/index\n",
    "\n",
    "Climate projections for the next 100 years"
   ]
  },
  {
   "cell_type": "code",
   "execution_count": null,
   "id": "vocal-destruction",
   "metadata": {},
   "outputs": [],
   "source": []
  },
  {
   "cell_type": "code",
   "execution_count": null,
   "id": "nearby-address",
   "metadata": {},
   "outputs": [],
   "source": []
  },
  {
   "cell_type": "code",
   "execution_count": null,
   "id": "indoor-mixer",
   "metadata": {},
   "outputs": [],
   "source": []
  },
  {
   "cell_type": "markdown",
   "id": "theoretical-reference",
   "metadata": {},
   "source": [
    "Download UKCP from CEDA\n",
    "* rss https://data.ceda.ac.uk/badc/ukcp18/data/land-cpm/uk/2.2km/rcp85/15/rss/day/v20190731\n",
    "* sfcWind https://data.ceda.ac.uk/badc/ukcp18/data/land-cpm/uk/2.2km/rcp85/15/sfcWind/day/v20190731\n",
    "* tasmax https://data.ceda.ac.uk/badc/ukcp18/data/land-cpm/uk/2.2km/rcp85/15/tasmax/day/v20190731\n",
    "* tasmin https://data.ceda.ac.uk/badc/ukcp18/data/land-cpm/uk/2.2km/rcp85/15/tasmin/day/v20190731"
   ]
  },
  {
   "cell_type": "markdown",
   "id": "driving-depth",
   "metadata": {},
   "source": [
    "### Interactively exploring local climate change\n",
    "\n",
    "BBC tools to see how local areas will be affected, based on UKCP\n",
    "https://www.bbc.co.uk/news/resources/idt-d6338d9f-8789-4bc2-b6d7-3691c0e7d138\n"
   ]
  }
 ],
 "metadata": {
  "kernelspec": {
   "display_name": "experimental-current",
   "language": "python",
   "name": "experimental-current"
  },
  "language_info": {
   "codemirror_mode": {
    "name": "ipython",
    "version": 3
   },
   "file_extension": ".py",
   "mimetype": "text/x-python",
   "name": "python",
   "nbconvert_exporter": "python",
   "pygments_lexer": "ipython3",
   "version": "3.6.6"
  }
 },
 "nbformat": 4,
 "nbformat_minor": 5
}
