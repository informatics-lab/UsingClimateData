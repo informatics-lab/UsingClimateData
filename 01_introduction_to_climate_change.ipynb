{
 "cells": [
  {
   "cell_type": "markdown",
   "id": "wicked-bench",
   "metadata": {},
   "source": [
    "# Introduction to Climate Change\n",
    "\n",
    "Section outline:\n",
    "* weather vs climate\n",
    "* History of research into climate change & global warming\n",
    "* introduction to climate data sources\n",
    "  * observations\n",
    "  * modelling - CMIP6, UKCP"
   ]
  },
  {
   "cell_type": "markdown",
   "id": "temporal-asian",
   "metadata": {},
   "source": [
    "## The difference between weather and climate\n",
    "\n",
    "Weather is what is happening at a particular moment\n",
    "\n",
    "Climate is about long-term averages and extremes \n",
    "* average/min/max weather value for a region for a period of time\n",
    "  * e.g. average daily max for february for Exeter\n",
    "  * Highest temperature recorded in the UK.\n",
    "  * Annual average rainfall for Florida"
   ]
  },
  {
   "cell_type": "markdown",
   "id": "hundred-taste",
   "metadata": {},
   "source": [
    "## History of Climate Research\n",
    "\n",
    "Discovery of Global Warming\n",
    "\n",
    "Studying Climate Change"
   ]
  },
  {
   "cell_type": "markdown",
   "id": "prescribed-surgery",
   "metadata": {},
   "source": [
    "## Introduction to climate datasets\n",
    "\n",
    "Two sources for studying climate change: observations and modelling\n",
    "* observations - what is the current and past state of climate\n",
    "* direct - climate obs datasets\n",
    "  * e.g. Central England Temperature\n",
    "  * different sorts - ground stattions, satellites\n",
    "  * ocean and atmosphere\n",
    "* indirect - long-term *Paleoclimate*\n",
    "  * ice cores\n",
    "  * tree rings\n",
    "  * radio-isotopes\n",
    "Describe how climate datasets are produced\n",
    "\n",
    "Aim is not individual weather events but likely future scenarios"
   ]
  },
  {
   "cell_type": "markdown",
   "id": "headed-generic",
   "metadata": {},
   "source": [
    "The other source is climate climate simulations. As a starting point we use climate simulations with observations to create a physically consistent model of the whole world to fill in the gaps between measurements, called *reanalysis*\n",
    " One example of this is the *ERA5* dataset produced by the European Centre for Medrium-range Weather Forecasting (ECMWF)."
   ]
  },
  {
   "cell_type": "code",
   "execution_count": null,
   "id": "dominican-sullivan",
   "metadata": {},
   "outputs": [],
   "source": [
    "# load era5 data from AWS S3"
   ]
  },
  {
   "cell_type": "code",
   "execution_count": 100,
   "id": "greek-generation",
   "metadata": {},
   "outputs": [],
   "source": [
    "# plot data for March 2020: gridded data and time series."
   ]
  },
  {
   "cell_type": "markdown",
   "id": "listed-plaintiff",
   "metadata": {},
   "source": [
    "### CMIP6\n",
    "\n",
    "Modelling different scenarios\n",
    "Climate model as an experiment\n",
    "Standard dataset for future climate\n",
    "used as input for IPCC reports that feed into COP UN Framework Convention of Climate Change"
   ]
  },
  {
   "cell_type": "markdown",
   "id": "agricultural-blast",
   "metadata": {},
   "source": [
    "How to access CMIP6 data through AWS and intake"
   ]
  },
  {
   "cell_type": "code",
   "execution_count": 9,
   "id": "appointed-agriculture",
   "metadata": {},
   "outputs": [],
   "source": [
    "import pathlib\n",
    "import datetime"
   ]
  },
  {
   "cell_type": "code",
   "execution_count": 62,
   "id": "professional-portable",
   "metadata": {},
   "outputs": [],
   "source": [
    "import matplotlib\n",
    "import matplotlib.pyplot"
   ]
  },
  {
   "cell_type": "code",
   "execution_count": 66,
   "id": "printable-toolbox",
   "metadata": {},
   "outputs": [],
   "source": [
    "import iris\n",
    "import iris.coord_categorisation\n",
    "import iris.quickplot\n",
    "import cartopy\n",
    "import cartopy.crs"
   ]
  },
  {
   "cell_type": "code",
   "execution_count": null,
   "id": "iraqi-store",
   "metadata": {},
   "outputs": [],
   "source": [
    "# define paramters for access CMIP6"
   ]
  },
  {
   "cell_type": "code",
   "execution_count": 4,
   "id": "gentle-technique",
   "metadata": {},
   "outputs": [],
   "source": []
  },
  {
   "cell_type": "code",
   "execution_count": null,
   "id": "exciting-aerospace",
   "metadata": {},
   "outputs": [],
   "source": []
  },
  {
   "cell_type": "code",
   "execution_count": null,
   "id": "comic-trance",
   "metadata": {},
   "outputs": [],
   "source": []
  },
  {
   "cell_type": "code",
   "execution_count": null,
   "id": "bearing-bedroom",
   "metadata": {},
   "outputs": [],
   "source": [
    "# load some data for different scenarios"
   ]
  },
  {
   "cell_type": "code",
   "execution_count": null,
   "id": "raising-acquisition",
   "metadata": {},
   "outputs": [],
   "source": [
    "# calculate monthly means for different years for multiple ensemble memebers"
   ]
  },
  {
   "cell_type": "code",
   "execution_count": null,
   "id": "serial-reading",
   "metadata": {},
   "outputs": [],
   "source": [
    "# calculate a time a series for Exeter? UK? "
   ]
  },
  {
   "cell_type": "markdown",
   "id": "tracked-mustang",
   "metadata": {},
   "source": [
    "### UK Climate Projections\n",
    "\n",
    "https://www.metoffice.gov.uk/research/approach/collaboration/ukcp/index\n",
    "\n",
    "Climate projections for the next 100 years"
   ]
  },
  {
   "cell_type": "code",
   "execution_count": null,
   "id": "subjective-johnson",
   "metadata": {},
   "outputs": [],
   "source": [
    "#Met Office stuff\n",
    "root_dir = '/project/ukcp/land-cpm/uk/2.2km/rcp85'\n"
   ]
  },
  {
   "cell_type": "code",
   "execution_count": 42,
   "id": "breathing-error",
   "metadata": {},
   "outputs": [],
   "source": [
    "selected_var = 'tasmax'\n",
    "ensemble_member_list = [1,4,5,6,7,8,9,10,11,12,13,15]\n",
    "ensemble_member = ensemble_member_list[0]\n",
    "data_version = 'v20190731'\n",
    "scenario = 'rcp85'\n",
    "data_category = 'land-cpm'\n",
    "selected_area = 'uk'\n",
    "res = '2.2km'\n",
    "freq = 'day'\n",
    "format_ext = 'nc'"
   ]
  },
  {
   "cell_type": "code",
   "execution_count": 43,
   "id": "proper-youth",
   "metadata": {},
   "outputs": [],
   "source": [
    "start_date = datetime.datetime(2020,12,1)\n",
    "end_date = datetime.datetime(2021,11,30)"
   ]
  },
  {
   "cell_type": "code",
   "execution_count": 44,
   "id": "fancy-emperor",
   "metadata": {},
   "outputs": [],
   "source": [
    "start_date_str = f'{start_date.year:04d}{start_date.month:02d}{start_date.day:02d}'\n",
    "end_date_str = f'{end_date.year:04d}{end_date.month:02d}{end_date.day:02d}'"
   ]
  },
  {
   "cell_type": "code",
   "execution_count": 45,
   "id": "matched-dating",
   "metadata": {},
   "outputs": [
    {
     "data": {
      "text/plain": [
       "PosixPath('/project/ukcp/land-cpm/uk/2.2km/rcp85/01/tasmax/day/v20190731/tasmax_rcp85_land-cpm_uk_2.2km_01_day_20201201-20211130.nc')"
      ]
     },
     "execution_count": 45,
     "metadata": {},
     "output_type": "execute_result"
    }
   ],
   "source": [
    "fname1 = f'{selected_var}_{scenario}_{data_category}_{selected_area}_{res}_{ensemble_member:02d}_{freq}_{start_date_str}-{end_date_str}.{format_ext}'\n",
    "data_path1 = pathlib.Path(root_dir) / f'{ensemble_member:02d}' / selected_var / 'day' / data_version / fname1\n",
    "data_path1"
   ]
  },
  {
   "cell_type": "code",
   "execution_count": 48,
   "id": "affecting-suffering",
   "metadata": {},
   "outputs": [
    {
     "data": {
      "text/html": [
       "\n",
       "<style>\n",
       "  a.iris {\n",
       "      text-decoration: none !important;\n",
       "  }\n",
       "  table.iris {\n",
       "      white-space: pre;\n",
       "      border: 1px solid;\n",
       "      border-color: #9c9c9c;\n",
       "      font-family: monaco, monospace;\n",
       "  }\n",
       "  th.iris {\n",
       "      background: #303f3f;\n",
       "      color: #e0e0e0;\n",
       "      border-left: 1px solid;\n",
       "      border-color: #9c9c9c;\n",
       "      font-size: 1.05em;\n",
       "      min-width: 50px;\n",
       "      max-width: 125px;\n",
       "  }\n",
       "  tr.iris :first-child {\n",
       "      border-right: 1px solid #9c9c9c !important;\n",
       "  }\n",
       "  td.iris-title {\n",
       "      background: #d5dcdf;\n",
       "      border-top: 1px solid #9c9c9c;\n",
       "      font-weight: bold;\n",
       "  }\n",
       "  .iris-word-cell {\n",
       "      text-align: left !important;\n",
       "      white-space: pre;\n",
       "  }\n",
       "  .iris-subheading-cell {\n",
       "      padding-left: 2em !important;\n",
       "  }\n",
       "  .iris-inclusion-cell {\n",
       "      padding-right: 1em !important;\n",
       "  }\n",
       "  .iris-panel-body {\n",
       "      padding-top: 0px;\n",
       "  }\n",
       "  .iris-panel-title {\n",
       "      padding-left: 3em;\n",
       "  }\n",
       "  .iris-panel-title {\n",
       "      margin-top: 7px;\n",
       "  }\n",
       "</style>\n",
       "<table class=\"iris\" id=\"140275049814112\">\n",
       "    <tr class=\"iris\">\n",
       "<th class=\"iris iris-word-cell\">Air Temperature (degC)</th>\n",
       "<th class=\"iris iris-word-cell\">ensemble_member</th>\n",
       "<th class=\"iris iris-word-cell\">time</th>\n",
       "<th class=\"iris iris-word-cell\">grid_latitude</th>\n",
       "<th class=\"iris iris-word-cell\">grid_longitude</th>\n",
       "</tr>\n",
       "    <tr class=\"iris\">\n",
       "<td class=\"iris-word-cell iris-subheading-cell\">Shape</td>\n",
       "<td class=\"iris iris-inclusion-cell\">1</td>\n",
       "<td class=\"iris iris-inclusion-cell\">360</td>\n",
       "<td class=\"iris iris-inclusion-cell\">606</td>\n",
       "<td class=\"iris iris-inclusion-cell\">484</td>\n",
       "</tr>\n",
       "    <tr class=\"iris\">\n",
       "    <td class=\"iris-title iris-word-cell\">Dimension coordinates</td>\n",
       "    <td class=\"iris-title\"></td>\n",
       "    <td class=\"iris-title\"></td>\n",
       "    <td class=\"iris-title\"></td>\n",
       "    <td class=\"iris-title\"></td>\n",
       "</tr>\n",
       "<tr class=\"iris\">\n",
       "    <td class=\"iris-word-cell iris-subheading-cell\">\tensemble_member</td>\n",
       "    <td class=\"iris-inclusion-cell\">x</td>\n",
       "    <td class=\"iris-inclusion-cell\">-</td>\n",
       "    <td class=\"iris-inclusion-cell\">-</td>\n",
       "    <td class=\"iris-inclusion-cell\">-</td>\n",
       "</tr>\n",
       "<tr class=\"iris\">\n",
       "    <td class=\"iris-word-cell iris-subheading-cell\">\ttime</td>\n",
       "    <td class=\"iris-inclusion-cell\">-</td>\n",
       "    <td class=\"iris-inclusion-cell\">x</td>\n",
       "    <td class=\"iris-inclusion-cell\">-</td>\n",
       "    <td class=\"iris-inclusion-cell\">-</td>\n",
       "</tr>\n",
       "<tr class=\"iris\">\n",
       "    <td class=\"iris-word-cell iris-subheading-cell\">\tgrid_latitude</td>\n",
       "    <td class=\"iris-inclusion-cell\">-</td>\n",
       "    <td class=\"iris-inclusion-cell\">-</td>\n",
       "    <td class=\"iris-inclusion-cell\">x</td>\n",
       "    <td class=\"iris-inclusion-cell\">-</td>\n",
       "</tr>\n",
       "<tr class=\"iris\">\n",
       "    <td class=\"iris-word-cell iris-subheading-cell\">\tgrid_longitude</td>\n",
       "    <td class=\"iris-inclusion-cell\">-</td>\n",
       "    <td class=\"iris-inclusion-cell\">-</td>\n",
       "    <td class=\"iris-inclusion-cell\">-</td>\n",
       "    <td class=\"iris-inclusion-cell\">x</td>\n",
       "</tr>\n",
       "<tr class=\"iris\">\n",
       "    <td class=\"iris-title iris-word-cell\">Auxiliary coordinates</td>\n",
       "    <td class=\"iris-title\"></td>\n",
       "    <td class=\"iris-title\"></td>\n",
       "    <td class=\"iris-title\"></td>\n",
       "    <td class=\"iris-title\"></td>\n",
       "</tr>\n",
       "<tr class=\"iris\">\n",
       "    <td class=\"iris-word-cell iris-subheading-cell\">\tensemble_member_id</td>\n",
       "    <td class=\"iris-inclusion-cell\">x</td>\n",
       "    <td class=\"iris-inclusion-cell\">-</td>\n",
       "    <td class=\"iris-inclusion-cell\">-</td>\n",
       "    <td class=\"iris-inclusion-cell\">-</td>\n",
       "</tr>\n",
       "<tr class=\"iris\">\n",
       "    <td class=\"iris-word-cell iris-subheading-cell\">\tmonth_number</td>\n",
       "    <td class=\"iris-inclusion-cell\">-</td>\n",
       "    <td class=\"iris-inclusion-cell\">x</td>\n",
       "    <td class=\"iris-inclusion-cell\">-</td>\n",
       "    <td class=\"iris-inclusion-cell\">-</td>\n",
       "</tr>\n",
       "<tr class=\"iris\">\n",
       "    <td class=\"iris-word-cell iris-subheading-cell\">\tyear</td>\n",
       "    <td class=\"iris-inclusion-cell\">-</td>\n",
       "    <td class=\"iris-inclusion-cell\">x</td>\n",
       "    <td class=\"iris-inclusion-cell\">-</td>\n",
       "    <td class=\"iris-inclusion-cell\">-</td>\n",
       "</tr>\n",
       "<tr class=\"iris\">\n",
       "    <td class=\"iris-word-cell iris-subheading-cell\">\tyyyymmdd</td>\n",
       "    <td class=\"iris-inclusion-cell\">-</td>\n",
       "    <td class=\"iris-inclusion-cell\">x</td>\n",
       "    <td class=\"iris-inclusion-cell\">-</td>\n",
       "    <td class=\"iris-inclusion-cell\">-</td>\n",
       "</tr>\n",
       "<tr class=\"iris\">\n",
       "    <td class=\"iris-word-cell iris-subheading-cell\">\tlatitude</td>\n",
       "    <td class=\"iris-inclusion-cell\">-</td>\n",
       "    <td class=\"iris-inclusion-cell\">-</td>\n",
       "    <td class=\"iris-inclusion-cell\">x</td>\n",
       "    <td class=\"iris-inclusion-cell\">x</td>\n",
       "</tr>\n",
       "<tr class=\"iris\">\n",
       "    <td class=\"iris-word-cell iris-subheading-cell\">\tlongitude</td>\n",
       "    <td class=\"iris-inclusion-cell\">-</td>\n",
       "    <td class=\"iris-inclusion-cell\">-</td>\n",
       "    <td class=\"iris-inclusion-cell\">x</td>\n",
       "    <td class=\"iris-inclusion-cell\">x</td>\n",
       "</tr>\n",
       "<tr class=\"iris\">\n",
       "    <td class=\"iris-title iris-word-cell\">Attributes</td>\n",
       "    <td class=\"iris-title\"></td>\n",
       "    <td class=\"iris-title\"></td>\n",
       "    <td class=\"iris-title\"></td>\n",
       "    <td class=\"iris-title\"></td>\n",
       "</tr>\n",
       "<tr class=\"iris\">\n",
       "    <td class=\"iris-word-cell iris-subheading-cell\">\tConventions</td>\n",
       "    <td class=\"iris-word-cell\" colspan=\"4\">CF-1.5</td>\n",
       "</tr>\n",
       "<tr class=\"iris\">\n",
       "    <td class=\"iris-word-cell iris-subheading-cell\">\tcollection</td>\n",
       "    <td class=\"iris-word-cell\" colspan=\"4\">land-cpm</td>\n",
       "</tr>\n",
       "<tr class=\"iris\">\n",
       "    <td class=\"iris-word-cell iris-subheading-cell\">\tcontact</td>\n",
       "    <td class=\"iris-word-cell\" colspan=\"4\">ukcpproject@metoffice.gov.uk</td>\n",
       "</tr>\n",
       "<tr class=\"iris\">\n",
       "    <td class=\"iris-word-cell iris-subheading-cell\">\tcreation_date</td>\n",
       "    <td class=\"iris-word-cell\" colspan=\"4\">2019-07-30T07:13:54</td>\n",
       "</tr>\n",
       "<tr class=\"iris\">\n",
       "    <td class=\"iris-word-cell iris-subheading-cell\">\tdescription</td>\n",
       "    <td class=\"iris-word-cell\" colspan=\"4\">Maximum air temperature</td>\n",
       "</tr>\n",
       "<tr class=\"iris\">\n",
       "    <td class=\"iris-word-cell iris-subheading-cell\">\tdomain</td>\n",
       "    <td class=\"iris-word-cell\" colspan=\"4\">uk</td>\n",
       "</tr>\n",
       "<tr class=\"iris\">\n",
       "    <td class=\"iris-word-cell iris-subheading-cell\">\tfrequency</td>\n",
       "    <td class=\"iris-word-cell\" colspan=\"4\">day</td>\n",
       "</tr>\n",
       "<tr class=\"iris\">\n",
       "    <td class=\"iris-word-cell iris-subheading-cell\">\tinstitution</td>\n",
       "    <td class=\"iris-word-cell\" colspan=\"4\">Met Office Hadley Centre (MOHC), FitzRoy Road, Exeter, Devon, EX1 3PB,...</td>\n",
       "</tr>\n",
       "<tr class=\"iris\">\n",
       "    <td class=\"iris-word-cell iris-subheading-cell\">\tinstitution_id</td>\n",
       "    <td class=\"iris-word-cell\" colspan=\"4\">MOHC</td>\n",
       "</tr>\n",
       "<tr class=\"iris\">\n",
       "    <td class=\"iris-word-cell iris-subheading-cell\">\tlabel_units</td>\n",
       "    <td class=\"iris-word-cell\" colspan=\"4\">°C</td>\n",
       "</tr>\n",
       "<tr class=\"iris\">\n",
       "    <td class=\"iris-word-cell iris-subheading-cell\">\tplot_label</td>\n",
       "    <td class=\"iris-word-cell\" colspan=\"4\">Maximum air temperature at 1.5m (°C)</td>\n",
       "</tr>\n",
       "<tr class=\"iris\">\n",
       "    <td class=\"iris-word-cell iris-subheading-cell\">\tproject</td>\n",
       "    <td class=\"iris-word-cell\" colspan=\"4\">UKCP18</td>\n",
       "</tr>\n",
       "<tr class=\"iris\">\n",
       "    <td class=\"iris-word-cell iris-subheading-cell\">\treferences</td>\n",
       "    <td class=\"iris-word-cell\" colspan=\"4\">https://ukclimateprojections.metoffice.gov.uk</td>\n",
       "</tr>\n",
       "<tr class=\"iris\">\n",
       "    <td class=\"iris-word-cell iris-subheading-cell\">\tresolution</td>\n",
       "    <td class=\"iris-word-cell\" colspan=\"4\">2.2km</td>\n",
       "</tr>\n",
       "<tr class=\"iris\">\n",
       "    <td class=\"iris-word-cell iris-subheading-cell\">\tscenario</td>\n",
       "    <td class=\"iris-word-cell\" colspan=\"4\">rcp85</td>\n",
       "</tr>\n",
       "<tr class=\"iris\">\n",
       "    <td class=\"iris-word-cell iris-subheading-cell\">\tsource</td>\n",
       "    <td class=\"iris-word-cell\" colspan=\"4\">UKCP18 realisation from a set of 12 convection-permitting models (HadREM3-RA11M)...</td>\n",
       "</tr>\n",
       "<tr class=\"iris\">\n",
       "    <td class=\"iris-word-cell iris-subheading-cell\">\ttitle</td>\n",
       "    <td class=\"iris-word-cell\" colspan=\"4\">UKCP18 land projections - 2.2km convection-permitting climate model, Maximum...</td>\n",
       "</tr>\n",
       "<tr class=\"iris\">\n",
       "    <td class=\"iris-word-cell iris-subheading-cell\">\tversion</td>\n",
       "    <td class=\"iris-word-cell\" colspan=\"4\">v20190731</td>\n",
       "</tr>\n",
       "<tr class=\"iris\">\n",
       "    <td class=\"iris-title iris-word-cell\">Cell methods</td>\n",
       "    <td class=\"iris-title\"></td>\n",
       "    <td class=\"iris-title\"></td>\n",
       "    <td class=\"iris-title\"></td>\n",
       "    <td class=\"iris-title\"></td>\n",
       "</tr>\n",
       "<tr class=\"iris\">\n",
       "    <td class=\"iris-word-cell iris-subheading-cell\">\tmean: time</td>\n",
       "    <td class=\"iris-word-cell\" colspan=\"4\"></td>\n",
       "</tr>\n",
       "</table>\n",
       "        "
      ],
      "text/plain": [
       "<iris 'Cube' of air_temperature / (degC) (ensemble_member: 1; time: 360; grid_latitude: 606; grid_longitude: 484)>"
      ]
     },
     "execution_count": 48,
     "metadata": {},
     "output_type": "execute_result"
    }
   ],
   "source": [
    "temp_cube_2020_01 = iris.load_cube(str(data_path1))\n",
    "temp_cube_2020_01"
   ]
  },
  {
   "cell_type": "code",
   "execution_count": 54,
   "id": "headed-structure",
   "metadata": {},
   "outputs": [],
   "source": [
    "iris.coord_categorisation.add_season(temp_cube_2020_01, 'time', name='clim_season')"
   ]
  },
  {
   "cell_type": "code",
   "execution_count": 60,
   "id": "constitutional-onion",
   "metadata": {},
   "outputs": [
    {
     "data": {
      "text/plain": [
       "[Cell(point=cftime.Datetime360Day(2021, 1, 16, 0, 0, 0, 0), bound=(cftime.Datetime360Day(2020, 12, 1, 0, 0, 0, 0), cftime.Datetime360Day(2021, 3, 1, 0, 0, 0, 0))),\n",
       " Cell(point=cftime.Datetime360Day(2021, 4, 16, 0, 0, 0, 0), bound=(cftime.Datetime360Day(2021, 3, 1, 0, 0, 0, 0), cftime.Datetime360Day(2021, 6, 1, 0, 0, 0, 0))),\n",
       " Cell(point=cftime.Datetime360Day(2021, 7, 16, 0, 0, 0, 0), bound=(cftime.Datetime360Day(2021, 6, 1, 0, 0, 0, 0), cftime.Datetime360Day(2021, 9, 1, 0, 0, 0, 0))),\n",
       " Cell(point=cftime.Datetime360Day(2021, 10, 16, 0, 0, 0, 0), bound=(cftime.Datetime360Day(2021, 9, 1, 0, 0, 0, 0), cftime.Datetime360Day(2021, 12, 1, 0, 0, 0, 0)))]"
      ]
     },
     "execution_count": 60,
     "metadata": {},
     "output_type": "execute_result"
    }
   ],
   "source": [
    "temp_seasonal_means = temp_cube_2020_01.aggregated_by(['clim_season'], iris.analysis.MEAN)\n",
    "[i1 for i1 in temp_seasonal_means.coord('time').cells()]"
   ]
  },
  {
   "cell_type": "code",
   "execution_count": 75,
   "id": "comprehensive-profession",
   "metadata": {},
   "outputs": [
    {
     "data": {
      "text/plain": [
       "<cartopy.mpl.feature_artist.FeatureArtist at 0x7f94330299b0>"
      ]
     },
     "execution_count": 75,
     "metadata": {},
     "output_type": "execute_result"
    },
    {
     "data": {
      "image/png": "[encoded data removed]",
      "text/plain": [
       "<Figure size 432x288 with 8 Axes>"
      ]
     },
     "metadata": {
      "needs_background": "light"
     },
     "output_type": "display_data"
    }
   ],
   "source": [
    "matplotlib.pyplot.subplot(2,2,1)\n",
    "iris.quickplot.contourf(temp_seasonal_means[0,0,:,:])\n",
    "matplotlib.pyplot.gca().coastlines()\n",
    "matplotlib.pyplot.subplot(2,2,2)\n",
    "iris.quickplot.contourf(temp_seasonal_means[0,1,:,:])\n",
    "matplotlib.pyplot.gca().coastlines()\n",
    "matplotlib.pyplot.subplot(2,2,3)\n",
    "iris.quickplot.contourf(temp_seasonal_means[0,2,:,:])\n",
    "matplotlib.pyplot.gca().coastlines()\n",
    "matplotlib.pyplot.subplot(2,2,4)\n",
    "iris.quickplot.contourf(temp_seasonal_means[0,3,:,:])\n",
    "matplotlib.pyplot.gca().coastlines()"
   ]
  },
  {
   "cell_type": "code",
   "execution_count": 99,
   "id": "improving-proof",
   "metadata": {},
   "outputs": [
    {
     "data": {
      "text/plain": [
       "[<matplotlib.lines.Line2D at 0x7f943261a588>]"
      ]
     },
     "execution_count": 99,
     "metadata": {},
     "output_type": "execute_result"
    },
    {
     "data": {
      "image/png": "[encoded data removed]",
      "text/plain": [
       "<Figure size 432x288 with 1 Axes>"
      ]
     },
     "metadata": {
      "needs_background": "light"
     },
     "output_type": "display_data"
    }
   ],
   "source": [
    "iris.quickplot.plot(temp_cube_2020_01[0,:,129,234])"
   ]
  },
  {
   "cell_type": "markdown",
   "id": "biological-campbell",
   "metadata": {},
   "source": [
    "Download UKCP from CEDA\n",
    "* rss https://data.ceda.ac.uk/badc/ukcp18/data/land-cpm/uk/2.2km/rcp85/15/rss/day/v20190731\n",
    "* sfcWind https://data.ceda.ac.uk/badc/ukcp18/data/land-cpm/uk/2.2km/rcp85/15/sfcWind/day/v20190731\n",
    "* tasmax https://data.ceda.ac.uk/badc/ukcp18/data/land-cpm/uk/2.2km/rcp85/15/tasmax/day/v20190731\n",
    "* tasmin https://data.ceda.ac.uk/badc/ukcp18/data/land-cpm/uk/2.2km/rcp85/15/tasmin/day/v20190731"
   ]
  },
  {
   "cell_type": "markdown",
   "id": "effective-astronomy",
   "metadata": {},
   "source": [
    "### Interactively exploring local climate change\n",
    "\n",
    "BBC tools to see how local areas will be affected, based on UKCP\n",
    "https://www.bbc.co.uk/news/resources/idt-d6338d9f-8789-4bc2-b6d7-3691c0e7d138\n"
   ]
  }
 ],
 "metadata": {
  "kernelspec": {
   "display_name": "experimental-current",
   "language": "python",
   "name": "experimental-current"
  },
  "language_info": {
   "codemirror_mode": {
    "name": "ipython",
    "version": 3
   },
   "file_extension": ".py",
   "mimetype": "text/x-python",
   "name": "python",
   "nbconvert_exporter": "python",
   "pygments_lexer": "ipython3",
   "version": "3.6.6"
  }
 },
 "nbformat": 4,
 "nbformat_minor": 5
}
